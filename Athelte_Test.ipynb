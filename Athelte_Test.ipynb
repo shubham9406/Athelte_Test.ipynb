{
 "cells": [
  {
   "cell_type": "code",
   "execution_count": 1,
   "metadata": {},
   "outputs": [],
   "source": [
    "import pandas as pd\n",
    "import numpy as np"
   ]
  },
  {
   "cell_type": "code",
   "execution_count": 2,
   "metadata": {},
   "outputs": [],
   "source": [
    "data = pd.read_csv('athlete_events.csv')"
   ]
  },
  {
   "cell_type": "code",
   "execution_count": 3,
   "metadata": {},
   "outputs": [
    {
     "data": {
      "text/html": [
       "<div>\n",
       "<style scoped>\n",
       "    .dataframe tbody tr th:only-of-type {\n",
       "        vertical-align: middle;\n",
       "    }\n",
       "\n",
       "    .dataframe tbody tr th {\n",
       "        vertical-align: top;\n",
       "    }\n",
       "\n",
       "    .dataframe thead th {\n",
       "        text-align: right;\n",
       "    }\n",
       "</style>\n",
       "<table border=\"1\" class=\"dataframe\">\n",
       "  <thead>\n",
       "    <tr style=\"text-align: right;\">\n",
       "      <th></th>\n",
       "      <th>ID</th>\n",
       "      <th>Name</th>\n",
       "      <th>Sex</th>\n",
       "      <th>Age</th>\n",
       "      <th>Height</th>\n",
       "      <th>Weight</th>\n",
       "      <th>Team</th>\n",
       "      <th>NOC</th>\n",
       "      <th>Games</th>\n",
       "      <th>Year</th>\n",
       "      <th>Season</th>\n",
       "      <th>City</th>\n",
       "      <th>Sport</th>\n",
       "      <th>Event</th>\n",
       "      <th>Medal</th>\n",
       "    </tr>\n",
       "  </thead>\n",
       "  <tbody>\n",
       "    <tr>\n",
       "      <th>0</th>\n",
       "      <td>1</td>\n",
       "      <td>A Dijiang</td>\n",
       "      <td>M</td>\n",
       "      <td>24.0</td>\n",
       "      <td>180.0</td>\n",
       "      <td>80.0</td>\n",
       "      <td>China</td>\n",
       "      <td>CHN</td>\n",
       "      <td>1992 Summer</td>\n",
       "      <td>1992</td>\n",
       "      <td>Summer</td>\n",
       "      <td>Barcelona</td>\n",
       "      <td>Basketball</td>\n",
       "      <td>Basketball Men's Basketball</td>\n",
       "      <td>NaN</td>\n",
       "    </tr>\n",
       "    <tr>\n",
       "      <th>1</th>\n",
       "      <td>2</td>\n",
       "      <td>A Lamusi</td>\n",
       "      <td>M</td>\n",
       "      <td>23.0</td>\n",
       "      <td>170.0</td>\n",
       "      <td>60.0</td>\n",
       "      <td>China</td>\n",
       "      <td>CHN</td>\n",
       "      <td>2012 Summer</td>\n",
       "      <td>2012</td>\n",
       "      <td>Summer</td>\n",
       "      <td>London</td>\n",
       "      <td>Judo</td>\n",
       "      <td>Judo Men's Extra-Lightweight</td>\n",
       "      <td>NaN</td>\n",
       "    </tr>\n",
       "    <tr>\n",
       "      <th>2</th>\n",
       "      <td>3</td>\n",
       "      <td>Gunnar Nielsen Aaby</td>\n",
       "      <td>M</td>\n",
       "      <td>24.0</td>\n",
       "      <td>NaN</td>\n",
       "      <td>NaN</td>\n",
       "      <td>Denmark</td>\n",
       "      <td>DEN</td>\n",
       "      <td>1920 Summer</td>\n",
       "      <td>1920</td>\n",
       "      <td>Summer</td>\n",
       "      <td>Antwerpen</td>\n",
       "      <td>Football</td>\n",
       "      <td>Football Men's Football</td>\n",
       "      <td>NaN</td>\n",
       "    </tr>\n",
       "    <tr>\n",
       "      <th>3</th>\n",
       "      <td>4</td>\n",
       "      <td>Edgar Lindenau Aabye</td>\n",
       "      <td>M</td>\n",
       "      <td>34.0</td>\n",
       "      <td>NaN</td>\n",
       "      <td>NaN</td>\n",
       "      <td>Denmark/Sweden</td>\n",
       "      <td>DEN</td>\n",
       "      <td>1900 Summer</td>\n",
       "      <td>1900</td>\n",
       "      <td>Summer</td>\n",
       "      <td>Paris</td>\n",
       "      <td>Tug-Of-War</td>\n",
       "      <td>Tug-Of-War Men's Tug-Of-War</td>\n",
       "      <td>Gold</td>\n",
       "    </tr>\n",
       "    <tr>\n",
       "      <th>4</th>\n",
       "      <td>5</td>\n",
       "      <td>Christine Jacoba Aaftink</td>\n",
       "      <td>F</td>\n",
       "      <td>21.0</td>\n",
       "      <td>185.0</td>\n",
       "      <td>82.0</td>\n",
       "      <td>Netherlands</td>\n",
       "      <td>NED</td>\n",
       "      <td>1988 Winter</td>\n",
       "      <td>1988</td>\n",
       "      <td>Winter</td>\n",
       "      <td>Calgary</td>\n",
       "      <td>Speed Skating</td>\n",
       "      <td>Speed Skating Women's 500 metres</td>\n",
       "      <td>NaN</td>\n",
       "    </tr>\n",
       "  </tbody>\n",
       "</table>\n",
       "</div>"
      ],
      "text/plain": [
       "   ID                      Name Sex   Age  Height  Weight            Team  \\\n",
       "0   1                 A Dijiang   M  24.0   180.0    80.0           China   \n",
       "1   2                  A Lamusi   M  23.0   170.0    60.0           China   \n",
       "2   3       Gunnar Nielsen Aaby   M  24.0     NaN     NaN         Denmark   \n",
       "3   4      Edgar Lindenau Aabye   M  34.0     NaN     NaN  Denmark/Sweden   \n",
       "4   5  Christine Jacoba Aaftink   F  21.0   185.0    82.0     Netherlands   \n",
       "\n",
       "   NOC        Games  Year  Season       City          Sport  \\\n",
       "0  CHN  1992 Summer  1992  Summer  Barcelona     Basketball   \n",
       "1  CHN  2012 Summer  2012  Summer     London           Judo   \n",
       "2  DEN  1920 Summer  1920  Summer  Antwerpen       Football   \n",
       "3  DEN  1900 Summer  1900  Summer      Paris     Tug-Of-War   \n",
       "4  NED  1988 Winter  1988  Winter    Calgary  Speed Skating   \n",
       "\n",
       "                              Event Medal  \n",
       "0       Basketball Men's Basketball   NaN  \n",
       "1      Judo Men's Extra-Lightweight   NaN  \n",
       "2           Football Men's Football   NaN  \n",
       "3       Tug-Of-War Men's Tug-Of-War  Gold  \n",
       "4  Speed Skating Women's 500 metres   NaN  "
      ]
     },
     "execution_count": 3,
     "metadata": {},
     "output_type": "execute_result"
    }
   ],
   "source": [
    "data.head()"
   ]
  },
  {
   "cell_type": "code",
   "execution_count": 4,
   "metadata": {},
   "outputs": [
    {
     "name": "stdout",
     "output_type": "stream",
     "text": [
      "<class 'pandas.core.frame.DataFrame'>\n",
      "RangeIndex: 271116 entries, 0 to 271115\n",
      "Data columns (total 15 columns):\n",
      "ID        271116 non-null int64\n",
      "Name      271116 non-null object\n",
      "Sex       271116 non-null object\n",
      "Age       261642 non-null float64\n",
      "Height    210945 non-null float64\n",
      "Weight    208241 non-null float64\n",
      "Team      271116 non-null object\n",
      "NOC       271116 non-null object\n",
      "Games     271116 non-null object\n",
      "Year      271116 non-null int64\n",
      "Season    271116 non-null object\n",
      "City      271116 non-null object\n",
      "Sport     271116 non-null object\n",
      "Event     271116 non-null object\n",
      "Medal     39783 non-null object\n",
      "dtypes: float64(3), int64(2), object(10)\n",
      "memory usage: 31.0+ MB\n"
     ]
    }
   ],
   "source": [
    "data.info()"
   ]
  },
  {
   "cell_type": "code",
   "execution_count": 5,
   "metadata": {},
   "outputs": [
    {
     "data": {
      "text/plain": [
       "(271116, 15)"
      ]
     },
     "execution_count": 5,
     "metadata": {},
     "output_type": "execute_result"
    }
   ],
   "source": [
    "data.shape"
   ]
  },
  {
   "cell_type": "code",
   "execution_count": 6,
   "metadata": {},
   "outputs": [
    {
     "data": {
      "text/plain": [
       "Index(['ID', 'Name', 'Sex', 'Age', 'Height', 'Weight', 'Team', 'NOC', 'Games',\n",
       "       'Year', 'Season', 'City', 'Sport', 'Event', 'Medal'],\n",
       "      dtype='object')"
      ]
     },
     "execution_count": 6,
     "metadata": {},
     "output_type": "execute_result"
    }
   ],
   "source": [
    "data.columns"
   ]
  },
  {
   "cell_type": "code",
   "execution_count": null,
   "metadata": {},
   "outputs": [],
   "source": []
  },
  {
   "cell_type": "code",
   "execution_count": 7,
   "metadata": {},
   "outputs": [],
   "source": [
    "data.sort_values('Age', inplace=True, ascending=False)"
   ]
  },
  {
   "cell_type": "code",
   "execution_count": 8,
   "metadata": {},
   "outputs": [],
   "source": [
    "data.sort_values('City', inplace=True, ascending=False)"
   ]
  },
  {
   "cell_type": "code",
   "execution_count": 9,
   "metadata": {},
   "outputs": [],
   "source": [
    "data.sort_values('Event', inplace=True, ascending=False)"
   ]
  },
  {
   "cell_type": "code",
   "execution_count": 10,
   "metadata": {},
   "outputs": [],
   "source": [
    "data.sort_values('Games', inplace=True, ascending=False)"
   ]
  },
  {
   "cell_type": "code",
   "execution_count": 11,
   "metadata": {},
   "outputs": [],
   "source": [
    "data.sort_values('Height', inplace=True, ascending=False)"
   ]
  },
  {
   "cell_type": "code",
   "execution_count": 12,
   "metadata": {},
   "outputs": [],
   "source": [
    "data.sort_values('ID', inplace=True, ascending=False)"
   ]
  },
  {
   "cell_type": "code",
   "execution_count": 13,
   "metadata": {},
   "outputs": [],
   "source": [
    "data.sort_values('Name', inplace=True, ascending=False)"
   ]
  },
  {
   "cell_type": "code",
   "execution_count": 14,
   "metadata": {},
   "outputs": [],
   "source": [
    "data.sort_values('Season', inplace=True, ascending=False)"
   ]
  },
  {
   "cell_type": "code",
   "execution_count": 15,
   "metadata": {},
   "outputs": [],
   "source": [
    "data.sort_values('Sex', inplace=True, ascending=False)"
   ]
  },
  {
   "cell_type": "code",
   "execution_count": 16,
   "metadata": {},
   "outputs": [],
   "source": [
    "data.sort_values('Sport', inplace=True, ascending=False)"
   ]
  },
  {
   "cell_type": "code",
   "execution_count": 17,
   "metadata": {},
   "outputs": [],
   "source": [
    "data.sort_values('Team', inplace=True, ascending=False)"
   ]
  },
  {
   "cell_type": "code",
   "execution_count": 18,
   "metadata": {},
   "outputs": [],
   "source": [
    "data.sort_values('Weight', inplace=True, ascending=False)"
   ]
  },
  {
   "cell_type": "code",
   "execution_count": 19,
   "metadata": {},
   "outputs": [],
   "source": [
    "data.sort_values('Year', inplace=True, ascending=False)"
   ]
  },
  {
   "cell_type": "code",
   "execution_count": 20,
   "metadata": {},
   "outputs": [],
   "source": [
    "data.sort_values('Medal', inplace=True, ascending=False)"
   ]
  },
  {
   "cell_type": "code",
   "execution_count": 21,
   "metadata": {},
   "outputs": [],
   "source": [
    "data.sort_values('NOC', inplace=True, ascending=False)"
   ]
  },
  {
   "cell_type": "code",
   "execution_count": 22,
   "metadata": {},
   "outputs": [
    {
     "data": {
      "text/html": [
       "<div>\n",
       "<style scoped>\n",
       "    .dataframe tbody tr th:only-of-type {\n",
       "        vertical-align: middle;\n",
       "    }\n",
       "\n",
       "    .dataframe tbody tr th {\n",
       "        vertical-align: top;\n",
       "    }\n",
       "\n",
       "    .dataframe thead th {\n",
       "        text-align: right;\n",
       "    }\n",
       "</style>\n",
       "<table border=\"1\" class=\"dataframe\">\n",
       "  <thead>\n",
       "    <tr style=\"text-align: right;\">\n",
       "      <th></th>\n",
       "      <th>ID</th>\n",
       "      <th>Name</th>\n",
       "      <th>Sex</th>\n",
       "      <th>Age</th>\n",
       "      <th>Height</th>\n",
       "      <th>Weight</th>\n",
       "      <th>Team</th>\n",
       "      <th>NOC</th>\n",
       "      <th>Games</th>\n",
       "      <th>Year</th>\n",
       "      <th>Season</th>\n",
       "      <th>City</th>\n",
       "      <th>Sport</th>\n",
       "      <th>Event</th>\n",
       "      <th>Medal</th>\n",
       "    </tr>\n",
       "  </thead>\n",
       "  <tbody>\n",
       "    <tr>\n",
       "      <th>166805</th>\n",
       "      <td>83794</td>\n",
       "      <td>Fedistas Muzongondi</td>\n",
       "      <td>F</td>\n",
       "      <td>30.0</td>\n",
       "      <td>167.0</td>\n",
       "      <td>53.0</td>\n",
       "      <td>Zimbabwe</td>\n",
       "      <td>ZIM</td>\n",
       "      <td>2016 Summer</td>\n",
       "      <td>2016</td>\n",
       "      <td>Summer</td>\n",
       "      <td>Rio de Janeiro</td>\n",
       "      <td>Football</td>\n",
       "      <td>Football Women's Football</td>\n",
       "      <td>NaN</td>\n",
       "    </tr>\n",
       "    <tr>\n",
       "      <th>44496</th>\n",
       "      <td>22946</td>\n",
       "      <td>Lynette Cooper</td>\n",
       "      <td>F</td>\n",
       "      <td>16.0</td>\n",
       "      <td>151.0</td>\n",
       "      <td>57.0</td>\n",
       "      <td>Zimbabwe</td>\n",
       "      <td>ZIM</td>\n",
       "      <td>1960 Summer</td>\n",
       "      <td>1960</td>\n",
       "      <td>Summer</td>\n",
       "      <td>Roma</td>\n",
       "      <td>Swimming</td>\n",
       "      <td>Swimming Women's 100 metres Backstroke</td>\n",
       "      <td>NaN</td>\n",
       "    </tr>\n",
       "    <tr>\n",
       "      <th>134169</th>\n",
       "      <td>67549</td>\n",
       "      <td>Ivor Craig Le Roux</td>\n",
       "      <td>M</td>\n",
       "      <td>16.0</td>\n",
       "      <td>NaN</td>\n",
       "      <td>NaN</td>\n",
       "      <td>Zimbabwe</td>\n",
       "      <td>ZIM</td>\n",
       "      <td>1992 Summer</td>\n",
       "      <td>1992</td>\n",
       "      <td>Summer</td>\n",
       "      <td>Barcelona</td>\n",
       "      <td>Swimming</td>\n",
       "      <td>Swimming Men's 200 metres Freestyle</td>\n",
       "      <td>NaN</td>\n",
       "    </tr>\n",
       "    <tr>\n",
       "      <th>154314</th>\n",
       "      <td>77476</td>\n",
       "      <td>Sally Ann McDonald</td>\n",
       "      <td>F</td>\n",
       "      <td>29.0</td>\n",
       "      <td>NaN</td>\n",
       "      <td>NaN</td>\n",
       "      <td>Zimbabwe</td>\n",
       "      <td>ZIM</td>\n",
       "      <td>1992 Summer</td>\n",
       "      <td>1992</td>\n",
       "      <td>Summer</td>\n",
       "      <td>Barcelona</td>\n",
       "      <td>Tennis</td>\n",
       "      <td>Tennis Women's Doubles</td>\n",
       "      <td>NaN</td>\n",
       "    </tr>\n",
       "    <tr>\n",
       "      <th>162534</th>\n",
       "      <td>81607</td>\n",
       "      <td>Storme Cheryl Moodie</td>\n",
       "      <td>F</td>\n",
       "      <td>18.0</td>\n",
       "      <td>NaN</td>\n",
       "      <td>NaN</td>\n",
       "      <td>Zimbabwe</td>\n",
       "      <td>ZIM</td>\n",
       "      <td>1992 Summer</td>\n",
       "      <td>1992</td>\n",
       "      <td>Summer</td>\n",
       "      <td>Barcelona</td>\n",
       "      <td>Swimming</td>\n",
       "      <td>Swimming Women's 200 metres Backstroke</td>\n",
       "      <td>NaN</td>\n",
       "    </tr>\n",
       "  </tbody>\n",
       "</table>\n",
       "</div>"
      ],
      "text/plain": [
       "           ID                  Name Sex   Age  Height  Weight      Team  NOC  \\\n",
       "166805  83794   Fedistas Muzongondi   F  30.0   167.0    53.0  Zimbabwe  ZIM   \n",
       "44496   22946        Lynette Cooper   F  16.0   151.0    57.0  Zimbabwe  ZIM   \n",
       "134169  67549    Ivor Craig Le Roux   M  16.0     NaN     NaN  Zimbabwe  ZIM   \n",
       "154314  77476    Sally Ann McDonald   F  29.0     NaN     NaN  Zimbabwe  ZIM   \n",
       "162534  81607  Storme Cheryl Moodie   F  18.0     NaN     NaN  Zimbabwe  ZIM   \n",
       "\n",
       "              Games  Year  Season            City     Sport  \\\n",
       "166805  2016 Summer  2016  Summer  Rio de Janeiro  Football   \n",
       "44496   1960 Summer  1960  Summer            Roma  Swimming   \n",
       "134169  1992 Summer  1992  Summer       Barcelona  Swimming   \n",
       "154314  1992 Summer  1992  Summer       Barcelona    Tennis   \n",
       "162534  1992 Summer  1992  Summer       Barcelona  Swimming   \n",
       "\n",
       "                                         Event Medal  \n",
       "166805               Football Women's Football   NaN  \n",
       "44496   Swimming Women's 100 metres Backstroke   NaN  \n",
       "134169     Swimming Men's 200 metres Freestyle   NaN  \n",
       "154314                  Tennis Women's Doubles   NaN  \n",
       "162534  Swimming Women's 200 metres Backstroke   NaN  "
      ]
     },
     "execution_count": 22,
     "metadata": {},
     "output_type": "execute_result"
    }
   ],
   "source": [
    "data.head()"
   ]
  },
  {
   "cell_type": "code",
   "execution_count": 23,
   "metadata": {},
   "outputs": [
    {
     "data": {
      "text/plain": [
       "25.556898357297374"
      ]
     },
     "execution_count": 23,
     "metadata": {},
     "output_type": "execute_result"
    }
   ],
   "source": [
    "data.loc[:, 'Age' ].mean()"
   ]
  },
  {
   "cell_type": "code",
   "execution_count": 24,
   "metadata": {},
   "outputs": [
    {
     "data": {
      "text/plain": [
       "175.33896987366376"
      ]
     },
     "execution_count": 24,
     "metadata": {},
     "output_type": "execute_result"
    }
   ],
   "source": [
    "data.loc[:, \"Height\"].mean()"
   ]
  },
  {
   "cell_type": "code",
   "execution_count": 25,
   "metadata": {},
   "outputs": [
    {
     "data": {
      "text/plain": [
       "<bound method DataFrame.sum of             ID                             Name Sex   Age  Height  Weight  \\\n",
       "166805   83794              Fedistas Muzongondi   F  30.0   167.0    53.0   \n",
       "44496    22946                   Lynette Cooper   F  16.0   151.0    57.0   \n",
       "134169   67549               Ivor Craig Le Roux   M  16.0     NaN     NaN   \n",
       "154314   77476               Sally Ann McDonald   F  29.0     NaN     NaN   \n",
       "162534   81607             Storme Cheryl Moodie   F  18.0     NaN     NaN   \n",
       "162533   81607             Storme Cheryl Moodie   F  18.0     NaN     NaN   \n",
       "169815   85356                    Rudo Neshamba   F  24.0   164.0    53.0   \n",
       "245268  122814             William Homan Turpin   M  32.0   185.0    79.0   \n",
       "174110   87477                Cuthbert Nyasango   M  25.0   163.0    56.0   \n",
       "147238   73903                    Sheila Makoto   F  26.0   158.0    59.0   \n",
       "63412    32503                 Msipa Emmaculate   F  24.0   168.0    59.0   \n",
       "154507   77570          Rhoderick \"Rory\" McGown   M  19.0     NaN     NaN   \n",
       "22759    11973    Cara Cavell Black (-Stephens)   F  29.0   167.0    55.0   \n",
       "152043   76311                 Julius Masvanise   M  30.0   179.0    65.0   \n",
       "166350   83547                Sarah Jane Murphy   F  16.0     NaN     NaN   \n",
       "152044   76311                 Julius Masvanise   M  30.0   179.0    65.0   \n",
       "223838  112431             Vaughan Andren Smith   M  19.0   185.0    87.0   \n",
       "227488  114292  Susanne Chandler Standish-White   F  35.0     NaN     NaN   \n",
       "95943    48565            Deborah \"Debbie\" Hill   F  20.0   170.0    75.0   \n",
       "262763  131478            Jennifer \"Jenny\" Wood   F  16.0   172.0    64.0   \n",
       "134168   67549               Ivor Craig Le Roux   M  16.0     NaN     NaN   \n",
       "134167   67549               Ivor Craig Le Roux   M  16.0     NaN     NaN   \n",
       "154505   77570          Rhoderick \"Rory\" McGown   M  19.0     NaN     NaN   \n",
       "260715  130453    Antonette Wilken (-Batchelor)   F  23.0   162.0    49.0   \n",
       "90896    46049     Philemon Harineki (-Hanneck)   M  21.0   170.0    59.0   \n",
       "34168    17599                  Jason Cambitzis   M  17.0   185.0   106.0   \n",
       "154506   77570          Rhoderick \"Rory\" McGown   M  19.0     NaN     NaN   \n",
       "79121    40177             Margaret Ruth Gibson   F  31.0     NaN     NaN   \n",
       "59079    30249                       Gaily Dube   F  19.0   163.0    57.0   \n",
       "261574  130880              Peter Arthur Wilson   M  20.0   185.0    80.0   \n",
       "...        ...                              ...  ..   ...     ...     ...   \n",
       "172810   86829                  Nour Ullah Noor   M  20.0     NaN     NaN   \n",
       "217793  109397            Saadat Malook Shazada   M  19.0     NaN     NaN   \n",
       "217295  109153               Shakar Khan Shakar   M  31.0     NaN    74.0   \n",
       "116793   59102               Amir Jan Khalunder   M  35.0   166.0    66.0   \n",
       "1992      1101             Mohammad Anwar Afzal   M   NaN     NaN     NaN   \n",
       "235028  117860                Abdul Hamid Tajik   M   NaN     NaN     NaN   \n",
       "257089  128736               Abdul Hakim Wardak   M  20.0   179.0    75.0   \n",
       "211855  106372               Habib Zareef Sayed   M  23.0   170.0    58.0   \n",
       "266399  133277                    Kamia Yousufi   F  20.0   165.0    55.0   \n",
       "195908   98371             Bashir Ahmad Rahmati   M  19.0     NaN     NaN   \n",
       "173930   87377             Noor Ullah Nuristani   M   NaN     NaN     NaN   \n",
       "232004  116397                Basharmal Sultani   M  19.0   170.0    69.0   \n",
       "12534     6819               Nesar Ahmad Bahawi   M  24.0   186.0    68.0   \n",
       "161282   80938                  Esmail Mohammad   M  19.0   160.0    54.0   \n",
       "242306  121376         Khan Nasrullah Totakhail   M   NaN     NaN     NaN   \n",
       "115193   58364          Mohammad Ibrahim Kederi   M  20.0   166.0    62.0   \n",
       "231444  116125             Nizam-ud-din Subhani   M  34.0   168.0   111.0   \n",
       "264047  132125                Robina Muqim Yaar   F  22.0   180.0    56.0   \n",
       "56324    28855                       Ahmad Djan   M  20.0   165.0    52.0   \n",
       "49456    25471                  Ghulam Dastagir   M  23.0   180.0    87.0   \n",
       "173927   87374          Mohammad Amin Nuristani   M   NaN     NaN     NaN   \n",
       "88714    44977                Mohammad Halilula   M  28.0   163.0    57.0   \n",
       "197782   99310                 Mohammad Razigul   M   NaN     NaN     NaN   \n",
       "57849    29626             Sultan Mohammad Dost   M  28.0   168.0    73.0   \n",
       "168386   84618                      Ahmad Nasir   M   NaN     NaN     NaN   \n",
       "217294  109153               Shakar Khan Shakar   M  24.0     NaN    74.0   \n",
       "61067    31285                Mohammad Ebrahimi   M  30.0   160.0    63.0   \n",
       "173929   87376         Mohammad Kadir Nuristani   M   NaN     NaN     NaN   \n",
       "173928   87375         Mohammad Jahan Nuristani   M   NaN     NaN     NaN   \n",
       "11629     6336                     Masoud Azizi   M  27.0   168.0    64.0   \n",
       "\n",
       "               Team  NOC        Games  Year  Season            City  \\\n",
       "166805     Zimbabwe  ZIM  2016 Summer  2016  Summer  Rio de Janeiro   \n",
       "44496      Zimbabwe  ZIM  1960 Summer  1960  Summer            Roma   \n",
       "134169     Zimbabwe  ZIM  1992 Summer  1992  Summer       Barcelona   \n",
       "154314     Zimbabwe  ZIM  1992 Summer  1992  Summer       Barcelona   \n",
       "162534     Zimbabwe  ZIM  1992 Summer  1992  Summer       Barcelona   \n",
       "162533     Zimbabwe  ZIM  1992 Summer  1992  Summer       Barcelona   \n",
       "169815     Zimbabwe  ZIM  2016 Summer  2016  Summer  Rio de Janeiro   \n",
       "245268     Zimbabwe  ZIM  1964 Summer  1964  Summer           Tokyo   \n",
       "174110     Zimbabwe  ZIM  2008 Summer  2008  Summer         Beijing   \n",
       "147238     Zimbabwe  ZIM  2016 Summer  2016  Summer  Rio de Janeiro   \n",
       "63412      Zimbabwe  ZIM  2016 Summer  2016  Summer  Rio de Janeiro   \n",
       "154507     Zimbabwe  ZIM  1992 Summer  1992  Summer       Barcelona   \n",
       "22759      Zimbabwe  ZIM  2008 Summer  2008  Summer         Beijing   \n",
       "152043     Zimbabwe  ZIM  1996 Summer  1996  Summer         Atlanta   \n",
       "166350     Zimbabwe  ZIM  1992 Summer  1992  Summer       Barcelona   \n",
       "152044     Zimbabwe  ZIM  1996 Summer  1996  Summer         Atlanta   \n",
       "223838     Zimbabwe  ZIM  1988 Summer  1988  Summer           Seoul   \n",
       "227488     Zimbabwe  ZIM  1992 Summer  1992  Summer       Barcelona   \n",
       "95943      Zimbabwe  ZIM  1980 Summer  1980  Summer          Moskva   \n",
       "262763     Zimbabwe  ZIM  1964 Summer  1964  Summer           Tokyo   \n",
       "134168     Zimbabwe  ZIM  1992 Summer  1992  Summer       Barcelona   \n",
       "134167     Zimbabwe  ZIM  1992 Summer  1992  Summer       Barcelona   \n",
       "154505     Zimbabwe  ZIM  1992 Summer  1992  Summer       Barcelona   \n",
       "260715     Zimbabwe  ZIM  1984 Summer  1984  Summer     Los Angeles   \n",
       "90896      Zimbabwe  ZIM  1992 Summer  1992  Summer       Barcelona   \n",
       "34168      Zimbabwe  ZIM  1980 Summer  1980  Summer          Moskva   \n",
       "154506     Zimbabwe  ZIM  1992 Summer  1992  Summer       Barcelona   \n",
       "79121      Zimbabwe  ZIM  1992 Summer  1992  Summer       Barcelona   \n",
       "59079      Zimbabwe  ZIM  1988 Summer  1988  Summer           Seoul   \n",
       "261574     Zimbabwe  ZIM  1980 Summer  1980  Summer          Moskva   \n",
       "...             ...  ...          ...   ...     ...             ...   \n",
       "172810  Afghanistan  AFG  1964 Summer  1964  Summer           Tokyo   \n",
       "217793  Afghanistan  AFG  1936 Summer  1936  Summer          Berlin   \n",
       "217295  Afghanistan  AFG  1972 Summer  1972  Summer          Munich   \n",
       "116793  Afghanistan  AFG  1960 Summer  1960  Summer            Roma   \n",
       "1992    Afghanistan  AFG  1948 Summer  1948  Summer          London   \n",
       "235028  Afghanistan  AFG  1948 Summer  1948  Summer          London   \n",
       "257089  Afghanistan  AFG  1960 Summer  1960  Summer            Roma   \n",
       "211855  Afghanistan  AFG  1960 Summer  1960  Summer            Roma   \n",
       "266399  Afghanistan  AFG  2016 Summer  2016  Summer  Rio de Janeiro   \n",
       "195908  Afghanistan  AFG  2004 Summer  2004  Summer          Athina   \n",
       "173930  Afghanistan  AFG  1956 Summer  1956  Summer       Melbourne   \n",
       "232004  Afghanistan  AFG  2004 Summer  2004  Summer          Athina   \n",
       "12534   Afghanistan  AFG  2008 Summer  2008  Summer         Beijing   \n",
       "161282  Afghanistan  AFG  1980 Summer  1980  Summer          Moskva   \n",
       "242306  Afghanistan  AFG  1956 Summer  1956  Summer       Melbourne   \n",
       "115193  Afghanistan  AFG  1960 Summer  1960  Summer            Roma   \n",
       "231444  Afghanistan  AFG  1960 Summer  1960  Summer            Roma   \n",
       "264047  Afghanistan  AFG  2008 Summer  2008  Summer         Beijing   \n",
       "56324   Afghanistan  AFG  1968 Summer  1968  Summer     Mexico City   \n",
       "49456   Afghanistan  AFG  1968 Summer  1968  Summer     Mexico City   \n",
       "173927  Afghanistan  AFG  1956 Summer  1956  Summer       Melbourne   \n",
       "88714   Afghanistan  AFG  1980 Summer  1980  Summer          Moskva   \n",
       "197782  Afghanistan  AFG  1988 Summer  1988  Summer           Seoul   \n",
       "57849   Afghanistan  AFG  1960 Summer  1960  Summer            Roma   \n",
       "168386  Afghanistan  AFG  1988 Summer  1988  Summer           Seoul   \n",
       "217294  Afghanistan  AFG  1964 Summer  1964  Summer           Tokyo   \n",
       "61067   Afghanistan  AFG  1968 Summer  1968  Summer     Mexico City   \n",
       "173929  Afghanistan  AFG  1948 Summer  1948  Summer          London   \n",
       "173928  Afghanistan  AFG  1948 Summer  1948  Summer          London   \n",
       "11629   Afghanistan  AFG  2012 Summer  2012  Summer          London   \n",
       "\n",
       "            Sport                                        Event Medal  \n",
       "166805   Football                    Football Women's Football   NaN  \n",
       "44496    Swimming       Swimming Women's 100 metres Backstroke   NaN  \n",
       "134169   Swimming          Swimming Men's 200 metres Freestyle   NaN  \n",
       "154314     Tennis                       Tennis Women's Doubles   NaN  \n",
       "162534   Swimming       Swimming Women's 200 metres Backstroke   NaN  \n",
       "162533   Swimming       Swimming Women's 100 metres Backstroke   NaN  \n",
       "169815   Football                    Football Women's Football   NaN  \n",
       "245268     Hockey                          Hockey Men's Hockey   NaN  \n",
       "174110  Athletics                Athletics Men's 10,000 metres   NaN  \n",
       "147238   Football                    Football Women's Football   NaN  \n",
       "63412    Football                    Football Women's Football   NaN  \n",
       "154507   Swimming          Swimming Men's 100 metres Butterfly   NaN  \n",
       "22759      Tennis                       Tennis Women's Singles   NaN  \n",
       "152043  Athletics           Athletics Men's 400 metres Hurdles   NaN  \n",
       "166350   Swimming       Swimming Women's 200 metres Backstroke   NaN  \n",
       "152044  Athletics         Athletics Men's 4 x 400 metres Relay   NaN  \n",
       "223838   Swimming  Swimming Men's 200 metres Individual Medley   NaN  \n",
       "227488     Rowing                 Rowing Women's Coxless Pairs   NaN  \n",
       "95943      Diving                   Diving Women's Springboard   NaN  \n",
       "262763   Swimming        Swimming Women's 100 metres Butterfly   NaN  \n",
       "134168   Swimming          Swimming Men's 100 metres Freestyle   NaN  \n",
       "134167   Swimming           Swimming Men's 50 metres Freestyle   NaN  \n",
       "154505   Swimming           Swimming Men's 50 metres Freestyle   NaN  \n",
       "260715     Diving                   Diving Women's Springboard   NaN  \n",
       "90896   Athletics                 Athletics Men's 1,500 metres   NaN  \n",
       "34168    Shooting                          Shooting Mixed Trap   NaN  \n",
       "154506   Swimming          Swimming Men's 100 metres Freestyle   NaN  \n",
       "79121      Rowing                 Rowing Women's Coxless Pairs   NaN  \n",
       "59079   Athletics                 Athletics Women's 100 metres   NaN  \n",
       "261574    Sailing              Sailing Mixed One Person Dinghy   NaN  \n",
       "...           ...                                          ...   ...  \n",
       "172810  Wrestling    Wrestling Men's Bantamweight, Greco-Roman   NaN  \n",
       "217793     Hockey                          Hockey Men's Hockey   NaN  \n",
       "217295  Wrestling      Wrestling Men's Welterweight, Freestyle   NaN  \n",
       "116793  Wrestling       Wrestling Men's Lightweight, Freestyle   NaN  \n",
       "1992     Football                      Football Men's Football   NaN  \n",
       "235028   Football                      Football Men's Football   NaN  \n",
       "257089  Athletics                Athletics Men's Javelin Throw   NaN  \n",
       "211855  Athletics                   Athletics Men's 400 metres   NaN  \n",
       "266399  Athletics                 Athletics Women's 100 metres   NaN  \n",
       "195908  Wrestling     Wrestling Men's Featherweight, Freestyle   NaN  \n",
       "173930     Hockey                          Hockey Men's Hockey   NaN  \n",
       "232004     Boxing                    Boxing Men's Welterweight   NaN  \n",
       "12534   Taekwondo                Taekwondo Men's Featherweight   NaN  \n",
       "161282     Boxing                   Boxing Men's Featherweight   NaN  \n",
       "242306     Hockey                          Hockey Men's Hockey   NaN  \n",
       "115193  Wrestling     Wrestling Men's Featherweight, Freestyle   NaN  \n",
       "231444  Wrestling       Wrestling Men's Heavyweight, Freestyle   NaN  \n",
       "264047  Athletics                 Athletics Women's 100 metres   NaN  \n",
       "56324   Wrestling      Wrestling Men's Bantamweight, Freestyle   NaN  \n",
       "49456   Wrestling      Wrestling Men's Middleweight, Freestyle   NaN  \n",
       "173927     Hockey                          Hockey Men's Hockey   NaN  \n",
       "88714   Wrestling      Wrestling Men's Bantamweight, Freestyle   NaN  \n",
       "197782  Wrestling   Wrestling Men's Light-Flyweight, Freestyle   NaN  \n",
       "57849   Wrestling      Wrestling Men's Welterweight, Freestyle   NaN  \n",
       "168386  Wrestling         Wrestling Men's Flyweight, Freestyle   NaN  \n",
       "217294  Wrestling      Wrestling Men's Welterweight, Freestyle   NaN  \n",
       "61067   Wrestling     Wrestling Men's Featherweight, Freestyle   NaN  \n",
       "173929     Hockey                          Hockey Men's Hockey   NaN  \n",
       "173928     Hockey                          Hockey Men's Hockey   NaN  \n",
       "11629   Athletics                   Athletics Men's 100 metres   NaN  \n",
       "\n",
       "[271116 rows x 15 columns]>"
      ]
     },
     "execution_count": 25,
     "metadata": {},
     "output_type": "execute_result"
    }
   ],
   "source": [
    "data.sum"
   ]
  },
  {
   "cell_type": "code",
   "execution_count": null,
   "metadata": {},
   "outputs": [],
   "source": []
  }
 ],
 "metadata": {
  "kernelspec": {
   "display_name": "Python 3",
   "language": "python",
   "name": "python3"
  },
  "language_info": {
   "codemirror_mode": {
    "name": "ipython",
    "version": 3
   },
   "file_extension": ".py",
   "mimetype": "text/x-python",
   "name": "python",
   "nbconvert_exporter": "python",
   "pygments_lexer": "ipython3",
   "version": "3.7.3"
  }
 },
 "nbformat": 4,
 "nbformat_minor": 2
}
